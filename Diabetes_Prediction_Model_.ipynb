{
 "cells": [
  {
   "cell_type": "markdown",
   "id": "d9bab06d",
   "metadata": {},
   "source": [
    "Project Name : Diabetes Prediction"
   ]
  },
  {
   "cell_type": "code",
   "execution_count": 2,
   "id": "edd1d7cc",
   "metadata": {},
   "outputs": [],
   "source": [
    "#Import Necessary Libraries"
   ]
  },
  {
   "cell_type": "code",
   "execution_count": 3,
   "id": "ced74fbe",
   "metadata": {},
   "outputs": [],
   "source": [
    "import pandas as pd\n",
    "import matplotlib.pyplot as plt\n",
    "import numpy as np\n",
    "import seaborn as sns\n",
    "\n",
    "%matplotlib inline"
   ]
  },
  {
   "cell_type": "code",
   "execution_count": 4,
   "id": "aad275ab",
   "metadata": {},
   "outputs": [],
   "source": [
    "#Read DataSet"
   ]
  },
  {
   "cell_type": "code",
   "execution_count": 5,
   "id": "953b45e1",
   "metadata": {},
   "outputs": [],
   "source": [
    "dataset = pd.read_csv(\"./diabetes_prediction_dataset.csv\")"
   ]
  },
  {
   "cell_type": "code",
   "execution_count": 6,
   "id": "4198e284",
   "metadata": {},
   "outputs": [
    {
     "name": "stdout",
     "output_type": "stream",
     "text": [
      "Our Data Dimentions:  (100000, 9)\n",
      "Total Values:  900000\n"
     ]
    }
   ],
   "source": [
    "#Our data Set has 1 Lac Example points and Nine Features in total\n",
    "print(\"Our Data Dimentions: \", dataset.shape)\n",
    "#We have a total of 9 Lac Values in our dataset\n",
    "print(\"Total Values: \", dataset.size)"
   ]
  },
  {
   "cell_type": "code",
   "execution_count": 7,
   "id": "70d18d62",
   "metadata": {},
   "outputs": [
    {
     "data": {
      "text/html": [
       "<div>\n",
       "<style scoped>\n",
       "    .dataframe tbody tr th:only-of-type {\n",
       "        vertical-align: middle;\n",
       "    }\n",
       "\n",
       "    .dataframe tbody tr th {\n",
       "        vertical-align: top;\n",
       "    }\n",
       "\n",
       "    .dataframe thead th {\n",
       "        text-align: right;\n",
       "    }\n",
       "</style>\n",
       "<table border=\"1\" class=\"dataframe\">\n",
       "  <thead>\n",
       "    <tr style=\"text-align: right;\">\n",
       "      <th></th>\n",
       "      <th>gender</th>\n",
       "      <th>age</th>\n",
       "      <th>hypertension</th>\n",
       "      <th>heart_disease</th>\n",
       "      <th>smoking_history</th>\n",
       "      <th>bmi</th>\n",
       "      <th>HbA1c_level</th>\n",
       "      <th>blood_glucose_level</th>\n",
       "      <th>diabetes</th>\n",
       "    </tr>\n",
       "  </thead>\n",
       "  <tbody>\n",
       "    <tr>\n",
       "      <th>0</th>\n",
       "      <td>Female</td>\n",
       "      <td>80.0</td>\n",
       "      <td>0</td>\n",
       "      <td>1</td>\n",
       "      <td>never</td>\n",
       "      <td>25.19</td>\n",
       "      <td>6.6</td>\n",
       "      <td>140</td>\n",
       "      <td>0</td>\n",
       "    </tr>\n",
       "    <tr>\n",
       "      <th>1</th>\n",
       "      <td>Female</td>\n",
       "      <td>54.0</td>\n",
       "      <td>0</td>\n",
       "      <td>0</td>\n",
       "      <td>No Info</td>\n",
       "      <td>27.32</td>\n",
       "      <td>6.6</td>\n",
       "      <td>80</td>\n",
       "      <td>0</td>\n",
       "    </tr>\n",
       "    <tr>\n",
       "      <th>2</th>\n",
       "      <td>Male</td>\n",
       "      <td>28.0</td>\n",
       "      <td>0</td>\n",
       "      <td>0</td>\n",
       "      <td>never</td>\n",
       "      <td>27.32</td>\n",
       "      <td>5.7</td>\n",
       "      <td>158</td>\n",
       "      <td>0</td>\n",
       "    </tr>\n",
       "    <tr>\n",
       "      <th>3</th>\n",
       "      <td>Female</td>\n",
       "      <td>36.0</td>\n",
       "      <td>0</td>\n",
       "      <td>0</td>\n",
       "      <td>current</td>\n",
       "      <td>23.45</td>\n",
       "      <td>5.0</td>\n",
       "      <td>155</td>\n",
       "      <td>0</td>\n",
       "    </tr>\n",
       "    <tr>\n",
       "      <th>4</th>\n",
       "      <td>Male</td>\n",
       "      <td>76.0</td>\n",
       "      <td>1</td>\n",
       "      <td>1</td>\n",
       "      <td>current</td>\n",
       "      <td>20.14</td>\n",
       "      <td>4.8</td>\n",
       "      <td>155</td>\n",
       "      <td>0</td>\n",
       "    </tr>\n",
       "  </tbody>\n",
       "</table>\n",
       "</div>"
      ],
      "text/plain": [
       "   gender   age  hypertension  heart_disease smoking_history    bmi  \\\n",
       "0  Female  80.0             0              1           never  25.19   \n",
       "1  Female  54.0             0              0         No Info  27.32   \n",
       "2    Male  28.0             0              0           never  27.32   \n",
       "3  Female  36.0             0              0         current  23.45   \n",
       "4    Male  76.0             1              1         current  20.14   \n",
       "\n",
       "   HbA1c_level  blood_glucose_level  diabetes  \n",
       "0          6.6                  140         0  \n",
       "1          6.6                   80         0  \n",
       "2          5.7                  158         0  \n",
       "3          5.0                  155         0  \n",
       "4          4.8                  155         0  "
      ]
     },
     "execution_count": 7,
     "metadata": {},
     "output_type": "execute_result"
    }
   ],
   "source": [
    "#First 8 features are independent (Input features) and the last feature is dependent which is our actual output\n",
    "dataset.head(5)"
   ]
  },
  {
   "cell_type": "code",
   "execution_count": 8,
   "id": "a061cc16",
   "metadata": {},
   "outputs": [],
   "source": [
    "#Let's Write down the steps of a Machine Learning Model Training\n",
    "#1.Data Preprocessing\n",
    "#2.Model Selection\n",
    "#3.Training the data\n",
    "#4.Model Evaluation/Testing Model\n",
    "#5.Improvement\n",
    "#6.Deployment\n"
   ]
  },
  {
   "cell_type": "code",
   "execution_count": 9,
   "id": "87b93d14",
   "metadata": {},
   "outputs": [],
   "source": [
    "#First Of all Let's Check If our data has Any Missing Values"
   ]
  },
  {
   "cell_type": "code",
   "execution_count": 10,
   "id": "7a830ceb",
   "metadata": {},
   "outputs": [
    {
     "data": {
      "text/plain": [
       "False"
      ]
     },
     "execution_count": 10,
     "metadata": {},
     "output_type": "execute_result"
    }
   ],
   "source": [
    "dataset.isnull().values.any() #No Missing Values"
   ]
  },
  {
   "cell_type": "code",
   "execution_count": 11,
   "id": "40662dfe",
   "metadata": {},
   "outputs": [],
   "source": [
    "#Now Let's check the values of each column one by one and also check if any column has any outliers"
   ]
  },
  {
   "cell_type": "markdown",
   "id": "adf47b42",
   "metadata": {},
   "source": [
    "- Column 1 ----> Gender"
   ]
  },
  {
   "cell_type": "code",
   "execution_count": 12,
   "id": "80d04650",
   "metadata": {},
   "outputs": [
    {
     "name": "stdout",
     "output_type": "stream",
     "text": [
      "['Female' 'Male' 'Other']\n",
      "Percentage of Males:  41.43\n",
      "Percentage of Females:  58.55200000000001\n",
      "Percentage of Other:  0.018000000000000002\n"
     ]
    }
   ],
   "source": [
    "unique_values = dataset['gender'].unique()\n",
    "print(unique_values)\n",
    "\n",
    "column = dataset['gender']\n",
    "value_counts = column.value_counts()\n",
    "\n",
    "print(\"Percentage of Males: \", (value_counts['Male'] / len(dataset)) * 100)\n",
    "print(\"Percentage of Females: \", (value_counts['Female'] / len(dataset)) * 100)\n",
    "print(\"Percentage of Other: \", (value_counts['Other'] / len(dataset)) * 100)"
   ]
  },
  {
   "cell_type": "markdown",
   "id": "b37e9f04",
   "metadata": {},
   "source": [
    "- Column 2 ----> Age"
   ]
  },
  {
   "cell_type": "code",
   "execution_count": 13,
   "id": "5518e3b4",
   "metadata": {},
   "outputs": [
    {
     "name": "stdout",
     "output_type": "stream",
     "text": [
      "[ 0.08  0.16  0.24  0.32  0.4   0.48  0.56  0.64  0.72  0.8   0.88  1.\n",
      "  1.08  1.16  1.24  1.32  1.4   1.48  1.56  1.64  1.72  1.8   1.88  2.\n",
      "  3.    4.    5.    6.    7.    8.    9.   10.   11.   12.   13.   14.\n",
      " 15.   16.   17.   18.   19.   20.   21.   22.   23.   24.   25.   26.\n",
      " 27.   28.   29.   30.   31.   32.   33.   34.   35.   36.   37.   38.\n",
      " 39.   40.   41.   42.   43.   44.   45.   46.   47.   48.   49.   50.\n",
      " 51.   52.   53.   54.   55.   56.   57.   58.   59.   60.   61.   62.\n",
      " 63.   64.   65.   66.   67.   68.   69.   70.   71.   72.   73.   74.\n",
      " 75.   76.   77.   78.   79.   80.  ]\n",
      "\n",
      "-----To see the Outliers: \n"
     ]
    },
    {
     "data": {
      "text/plain": [
       "<AxesSubplot:>"
      ]
     },
     "execution_count": 13,
     "metadata": {},
     "output_type": "execute_result"
    },
    {
     "data": {
      "image/png": "[encoded data removed]",
      "text/plain": [
       "<Figure size 432x288 with 1 Axes>"
      ]
     },
     "metadata": {
      "needs_background": "light"
     },
     "output_type": "display_data"
    }
   ],
   "source": [
    "unique_values = np.sort(dataset['age'].unique())\n",
    "print(unique_values)\n",
    "column = dataset['age']\n",
    "print(\"\\n-----To see the Outliers: \")\n",
    "sns.boxplot(data=column)"
   ]
  },
  {
   "cell_type": "markdown",
   "id": "2b72b538",
   "metadata": {},
   "source": [
    "- Column 3 -----> Hypertension"
   ]
  },
  {
   "cell_type": "code",
   "execution_count": 14,
   "id": "080c07fc",
   "metadata": {},
   "outputs": [
    {
     "name": "stdout",
     "output_type": "stream",
     "text": [
      "[0 1]\n",
      "Percentage of 0's:  92.515\n",
      "Percentage of 1's:  7.485\n"
     ]
    }
   ],
   "source": [
    "unique_values = dataset['hypertension'].unique()\n",
    "print(unique_values)\n",
    "\n",
    "column = dataset['hypertension']\n",
    "value_counts = column.value_counts()\n",
    "\n",
    "print(\"Percentage of 0's: \", (value_counts[0] / len(dataset)) * 100)\n",
    "print(\"Percentage of 1's: \", (value_counts[1] / len(dataset)) * 100)"
   ]
  },
  {
   "cell_type": "markdown",
   "id": "1d6fa43e",
   "metadata": {},
   "source": [
    "- Column 4 ------> Heart Disease"
   ]
  },
  {
   "cell_type": "code",
   "execution_count": 15,
   "id": "14ad764b",
   "metadata": {},
   "outputs": [
    {
     "name": "stdout",
     "output_type": "stream",
     "text": [
      "[1 0]\n",
      "Percentage of 0's:  96.05799999999999\n",
      "Percentage of 1's:  3.9419999999999997\n"
     ]
    }
   ],
   "source": [
    "#As it is  a boolean column it may not provide useful insights using box plots\n",
    "unique_values = dataset['heart_disease'].unique()\n",
    "print(unique_values)\n",
    "\n",
    "column = dataset['heart_disease']\n",
    "value_counts = column.value_counts()\n",
    "\n",
    "print(\"Percentage of 0's: \", (value_counts[0] / len(dataset)) * 100)\n",
    "print(\"Percentage of 1's: \", (value_counts[1] / len(dataset)) * 100)"
   ]
  },
  {
   "cell_type": "markdown",
   "id": "ff8336d2",
   "metadata": {},
   "source": [
    "- Column 5 ------> Smoking History"
   ]
  },
  {
   "cell_type": "code",
   "execution_count": 16,
   "id": "2d0d5384",
   "metadata": {},
   "outputs": [
    {
     "name": "stdout",
     "output_type": "stream",
     "text": [
      "['never' 'No Info' 'current' 'former' 'ever' 'not current']\n",
      "\n",
      "\n",
      "Percentage of Never:  35.095\n",
      "Percentage of No Info:  35.815999999999995\n",
      "Percentage of Current:  9.286\n",
      "Percentage of Former:  9.352\n",
      "Percentage of Ever:  4.004\n",
      "Percentage of Not Current:  6.447\n"
     ]
    }
   ],
   "source": [
    "unique_values = dataset['smoking_history'].unique()\n",
    "print(unique_values)\n",
    "\n",
    "column = dataset['smoking_history']\n",
    "value_counts = column.value_counts()\n",
    "\n",
    "print(\"\\n\\nPercentage of Never: \", (value_counts['never'] / len(dataset)) * 100 )\n",
    "print(\"Percentage of No Info: \", (value_counts['No Info'] / len(dataset)) * 100 )\n",
    "print(\"Percentage of Current: \", (value_counts['current'] / len(dataset)) * 100 )\n",
    "print(\"Percentage of Former: \", (value_counts['former'] / len(dataset)) * 100 )\n",
    "print(\"Percentage of Ever: \", (value_counts['ever'] / len(dataset)) * 100 )\n",
    "print(\"Percentage of Not Current: \", (value_counts['not current'] / len(dataset)) * 100 )"
   ]
  },
  {
   "cell_type": "markdown",
   "id": "a960cf07",
   "metadata": {},
   "source": [
    "- Column 6 -----> BMI"
   ]
  },
  {
   "cell_type": "code",
   "execution_count": 17,
   "id": "a515daba",
   "metadata": {},
   "outputs": [
    {
     "name": "stdout",
     "output_type": "stream",
     "text": [
      "[10.01 10.08 10.14 ... 91.82 95.22 95.69]\n",
      "\n",
      "-----To see the Outliers: \n"
     ]
    },
    {
     "data": {
      "text/plain": [
       "<AxesSubplot:>"
      ]
     },
     "execution_count": 17,
     "metadata": {},
     "output_type": "execute_result"
    },
    {
     "data": {
      "image/png": "[encoded data removed]",
      "text/plain": [
       "<Figure size 432x288 with 1 Axes>"
      ]
     },
     "metadata": {
      "needs_background": "light"
     },
     "output_type": "display_data"
    }
   ],
   "source": [
    "unique_values = np.sort(dataset['bmi'].unique())\n",
    "print(unique_values)\n",
    "\n",
    "print(\"\\n-----To see the Outliers: \")\n",
    "column = dataset['bmi']\n",
    "sns.boxplot(data=column)"
   ]
  },
  {
   "cell_type": "code",
   "execution_count": 18,
   "id": "c6ab7d9a",
   "metadata": {},
   "outputs": [
    {
     "name": "stdout",
     "output_type": "stream",
     "text": [
      "\n",
      "Lets Remove Outliers\n"
     ]
    },
    {
     "data": {
      "text/plain": [
       "<AxesSubplot:>"
      ]
     },
     "execution_count": 18,
     "metadata": {},
     "output_type": "execute_result"
    },
    {
     "data": {
      "image/png": "[encoded data removed]",
      "text/plain": [
       "<Figure size 432x288 with 1 Axes>"
      ]
     },
     "metadata": {
      "needs_background": "light"
     },
     "output_type": "display_data"
    }
   ],
   "source": [
    "print(\"\\nLets Remove Outliers\")\n",
    "column = dataset['bmi']\n",
    "\n",
    "Q1 = column.quantile(0.25)\n",
    "Q3 = column.quantile(0.75)\n",
    "\n",
    "IQR = Q3 - Q1\n",
    "\n",
    "lower_bound = Q1 - (1.5 * IQR)\n",
    "upper_bound = Q3 + (1.5 * IQR)\n",
    "\n",
    "column = np.where(column < lower_bound, lower_bound, column)\n",
    "column = np.where(column > upper_bound, upper_bound, column)\n",
    "\n",
    "dataset['bmi'] = column\n",
    "sns.boxplot(data=column)\n",
    "\n",
    "\n",
    "#filtered_column = column[(column >= lower_bound) & (column <= upper_bound)]\n",
    "\n",
    "#sns.boxplot(data=filtered_column)"
   ]
  },
  {
   "cell_type": "markdown",
   "id": "40a2a7a0",
   "metadata": {},
   "source": [
    "- Column 7 ------> HbA1c_level\t"
   ]
  },
  {
   "cell_type": "code",
   "execution_count": 19,
   "id": "f0b4631c",
   "metadata": {},
   "outputs": [
    {
     "name": "stdout",
     "output_type": "stream",
     "text": [
      "[3.5 4.  4.5 4.8 5.  5.7 5.8 6.  6.1 6.2 6.5 6.6 6.8 7.  7.5 8.2 8.8 9. ]\n",
      "\n",
      "-----To see the Outliers: \n"
     ]
    },
    {
     "data": {
      "text/plain": [
       "<AxesSubplot:>"
      ]
     },
     "execution_count": 19,
     "metadata": {},
     "output_type": "execute_result"
    },
    {
     "data": {
      "image/png": "[encoded data removed]",
      "text/plain": [
       "<Figure size 432x288 with 1 Axes>"
      ]
     },
     "metadata": {
      "needs_background": "light"
     },
     "output_type": "display_data"
    }
   ],
   "source": [
    "unique_values = np.sort(dataset['HbA1c_level'].unique())\n",
    "print(unique_values)\n",
    "\n",
    "print(\"\\n-----To see the Outliers: \")\n",
    "column = dataset['HbA1c_level']\n",
    "sns.boxplot(data=column)"
   ]
  },
  {
   "cell_type": "code",
   "execution_count": 20,
   "id": "a4ed26f7",
   "metadata": {},
   "outputs": [
    {
     "name": "stdout",
     "output_type": "stream",
     "text": [
      "\n",
      "Lets Remove Outliers\n"
     ]
    },
    {
     "data": {
      "text/plain": [
       "<AxesSubplot:>"
      ]
     },
     "execution_count": 20,
     "metadata": {},
     "output_type": "execute_result"
    },
    {
     "data": {
      "image/png": "[encoded data removed]",
      "text/plain": [
       "<Figure size 432x288 with 1 Axes>"
      ]
     },
     "metadata": {
      "needs_background": "light"
     },
     "output_type": "display_data"
    }
   ],
   "source": [
    "print(\"\\nLets Remove Outliers\")\n",
    "column = dataset['HbA1c_level']\n",
    "\n",
    "Q1 = column.quantile(0.25)\n",
    "Q3 = column.quantile(0.75)\n",
    "\n",
    "IQR = Q3 - Q1\n",
    "\n",
    "lower_bound = Q1 - (1.5 * IQR)\n",
    "upper_bound = Q3 + (1.5 * IQR)\n",
    "\n",
    "column = np.where(column < lower_bound, lower_bound, column)\n",
    "column = np.where(column > upper_bound, upper_bound, column)\n",
    "\n",
    "dataset['HbA1c_level'] = column\n",
    "sns.boxplot(data=column)\n",
    "\n",
    "#filtered_column = column[(column >= lower_bound) & (column <= upper_bound)]\n",
    "#dataset['HbA1c_level'] = filtered_column\n",
    "#sns.boxplot(data=filtered_column)"
   ]
  },
  {
   "cell_type": "markdown",
   "id": "c13ea0b5",
   "metadata": {},
   "source": [
    "- Column 8 -------> Blood Glucose Level\t"
   ]
  },
  {
   "cell_type": "code",
   "execution_count": 21,
   "id": "9a4e4bd7",
   "metadata": {},
   "outputs": [
    {
     "name": "stdout",
     "output_type": "stream",
     "text": [
      "[ 80  85  90 100 126 130 140 145 155 158 159 160 200 220 240 260 280 300]\n",
      "\n",
      "-----To see the Outliers: \n"
     ]
    },
    {
     "data": {
      "text/plain": [
       "<AxesSubplot:>"
      ]
     },
     "execution_count": 21,
     "metadata": {},
     "output_type": "execute_result"
    },
    {
     "data": {
      "image/png": "[encoded data removed]",
      "text/plain": [
       "<Figure size 432x288 with 1 Axes>"
      ]
     },
     "metadata": {
      "needs_background": "light"
     },
     "output_type": "display_data"
    }
   ],
   "source": [
    "unique_values = np.sort(dataset['blood_glucose_level'].unique())\n",
    "print(unique_values)\n",
    "\n",
    "print(\"\\n-----To see the Outliers: \")\n",
    "column = dataset['blood_glucose_level']\n",
    "sns.boxplot(data=column)"
   ]
  },
  {
   "cell_type": "code",
   "execution_count": 22,
   "id": "a33c97be",
   "metadata": {},
   "outputs": [
    {
     "name": "stdout",
     "output_type": "stream",
     "text": [
      "\n",
      "Lets Remove Outliers\n"
     ]
    },
    {
     "data": {
      "text/plain": [
       "<AxesSubplot:>"
      ]
     },
     "execution_count": 22,
     "metadata": {},
     "output_type": "execute_result"
    },
    {
     "data": {
      "image/png": "[encoded data removed]",
      "text/plain": [
       "<Figure size 432x288 with 1 Axes>"
      ]
     },
     "metadata": {
      "needs_background": "light"
     },
     "output_type": "display_data"
    }
   ],
   "source": [
    "print(\"\\nLets Remove Outliers\")\n",
    "column = dataset['blood_glucose_level']\n",
    "\n",
    "Q1 = column.quantile(0.25)\n",
    "Q3 = column.quantile(0.75)\n",
    "\n",
    "IQR = Q3 - Q1\n",
    "\n",
    "lower_bound = Q1 - (1.5 * IQR)\n",
    "upper_bound = Q3 + (1.5 * IQR)\n",
    "\n",
    "column = np.where(column < lower_bound, lower_bound, column)\n",
    "column = np.where(column > upper_bound, upper_bound, column)\n",
    "\n",
    "dataset['blood_glucose_level'] = column\n",
    "sns.boxplot(data=column)\n",
    "\n",
    "#filtered_column = column[(column >= lower_bound) & (column <= upper_bound)]\n",
    "#dataset['blood_glucose_level'] = filtered_column\n",
    "#sns.boxplot(data=filtered_column)"
   ]
  },
  {
   "cell_type": "markdown",
   "id": "0c6a928e",
   "metadata": {},
   "source": [
    "- Column 9 -------> Diabetes"
   ]
  },
  {
   "cell_type": "code",
   "execution_count": 23,
   "id": "034711d6",
   "metadata": {},
   "outputs": [
    {
     "name": "stdout",
     "output_type": "stream",
     "text": [
      "[0 1]\n",
      "Percentage of 0's:  91.5\n",
      "Percentage of 1's:  8.5\n"
     ]
    }
   ],
   "source": [
    "unique_values = np.sort(dataset['diabetes'].unique())\n",
    "print(unique_values)\n",
    "\n",
    "column = dataset['diabetes']\n",
    "value_counts = column.value_counts()\n",
    "\n",
    "print(\"Percentage of 0's: \", (value_counts[0] / len(dataset)) * 100)\n",
    "print(\"Percentage of 1's: \", (value_counts[1] / len(dataset)) * 100)"
   ]
  },
  {
   "cell_type": "markdown",
   "id": "fd3f29fe",
   "metadata": {},
   "source": [
    "# Correlation"
   ]
  },
  {
   "cell_type": "code",
   "execution_count": 24,
   "id": "843ef5b7",
   "metadata": {},
   "outputs": [
    {
     "data": {
      "text/html": [
       "<div>\n",
       "<style scoped>\n",
       "    .dataframe tbody tr th:only-of-type {\n",
       "        vertical-align: middle;\n",
       "    }\n",
       "\n",
       "    .dataframe tbody tr th {\n",
       "        vertical-align: top;\n",
       "    }\n",
       "\n",
       "    .dataframe thead th {\n",
       "        text-align: right;\n",
       "    }\n",
       "</style>\n",
       "<table border=\"1\" class=\"dataframe\">\n",
       "  <thead>\n",
       "    <tr style=\"text-align: right;\">\n",
       "      <th></th>\n",
       "      <th>age</th>\n",
       "      <th>hypertension</th>\n",
       "      <th>heart_disease</th>\n",
       "      <th>bmi</th>\n",
       "      <th>HbA1c_level</th>\n",
       "      <th>blood_glucose_level</th>\n",
       "      <th>diabetes</th>\n",
       "    </tr>\n",
       "  </thead>\n",
       "  <tbody>\n",
       "    <tr>\n",
       "      <th>age</th>\n",
       "      <td>1.000000</td>\n",
       "      <td>0.251171</td>\n",
       "      <td>0.233354</td>\n",
       "      <td>0.380410</td>\n",
       "      <td>0.097098</td>\n",
       "      <td>0.102481</td>\n",
       "      <td>0.258008</td>\n",
       "    </tr>\n",
       "    <tr>\n",
       "      <th>hypertension</th>\n",
       "      <td>0.251171</td>\n",
       "      <td>1.000000</td>\n",
       "      <td>0.121262</td>\n",
       "      <td>0.151447</td>\n",
       "      <td>0.077573</td>\n",
       "      <td>0.078007</td>\n",
       "      <td>0.197823</td>\n",
       "    </tr>\n",
       "    <tr>\n",
       "      <th>heart_disease</th>\n",
       "      <td>0.233354</td>\n",
       "      <td>0.121262</td>\n",
       "      <td>1.000000</td>\n",
       "      <td>0.069390</td>\n",
       "      <td>0.064703</td>\n",
       "      <td>0.064398</td>\n",
       "      <td>0.171727</td>\n",
       "    </tr>\n",
       "    <tr>\n",
       "      <th>bmi</th>\n",
       "      <td>0.380410</td>\n",
       "      <td>0.151447</td>\n",
       "      <td>0.069390</td>\n",
       "      <td>1.000000</td>\n",
       "      <td>0.078333</td>\n",
       "      <td>0.083048</td>\n",
       "      <td>0.209656</td>\n",
       "    </tr>\n",
       "    <tr>\n",
       "      <th>HbA1c_level</th>\n",
       "      <td>0.097098</td>\n",
       "      <td>0.077573</td>\n",
       "      <td>0.064703</td>\n",
       "      <td>0.078333</td>\n",
       "      <td>1.000000</td>\n",
       "      <td>0.147483</td>\n",
       "      <td>0.384753</td>\n",
       "    </tr>\n",
       "    <tr>\n",
       "      <th>blood_glucose_level</th>\n",
       "      <td>0.102481</td>\n",
       "      <td>0.078007</td>\n",
       "      <td>0.064398</td>\n",
       "      <td>0.083048</td>\n",
       "      <td>0.147483</td>\n",
       "      <td>1.000000</td>\n",
       "      <td>0.386446</td>\n",
       "    </tr>\n",
       "    <tr>\n",
       "      <th>diabetes</th>\n",
       "      <td>0.258008</td>\n",
       "      <td>0.197823</td>\n",
       "      <td>0.171727</td>\n",
       "      <td>0.209656</td>\n",
       "      <td>0.384753</td>\n",
       "      <td>0.386446</td>\n",
       "      <td>1.000000</td>\n",
       "    </tr>\n",
       "  </tbody>\n",
       "</table>\n",
       "</div>"
      ],
      "text/plain": [
       "                          age  hypertension  heart_disease       bmi  \\\n",
       "age                  1.000000      0.251171       0.233354  0.380410   \n",
       "hypertension         0.251171      1.000000       0.121262  0.151447   \n",
       "heart_disease        0.233354      0.121262       1.000000  0.069390   \n",
       "bmi                  0.380410      0.151447       0.069390  1.000000   \n",
       "HbA1c_level          0.097098      0.077573       0.064703  0.078333   \n",
       "blood_glucose_level  0.102481      0.078007       0.064398  0.083048   \n",
       "diabetes             0.258008      0.197823       0.171727  0.209656   \n",
       "\n",
       "                     HbA1c_level  blood_glucose_level  diabetes  \n",
       "age                     0.097098             0.102481  0.258008  \n",
       "hypertension            0.077573             0.078007  0.197823  \n",
       "heart_disease           0.064703             0.064398  0.171727  \n",
       "bmi                     0.078333             0.083048  0.209656  \n",
       "HbA1c_level             1.000000             0.147483  0.384753  \n",
       "blood_glucose_level     0.147483             1.000000  0.386446  \n",
       "diabetes                0.384753             0.386446  1.000000  "
      ]
     },
     "execution_count": 24,
     "metadata": {},
     "output_type": "execute_result"
    }
   ],
   "source": [
    "dataset.corr()"
   ]
  },
  {
   "cell_type": "markdown",
   "id": "9bc50478",
   "metadata": {},
   "source": [
    "# Logistic Regression"
   ]
  },
  {
   "cell_type": "code",
   "execution_count": 25,
   "id": "50bf088a",
   "metadata": {},
   "outputs": [],
   "source": [
    "from sklearn.preprocessing import OneHotEncoder\n",
    "from sklearn.model_selection import train_test_split\n",
    "from sklearn.linear_model import LogisticRegression"
   ]
  },
  {
   "cell_type": "code",
   "execution_count": 26,
   "id": "4861dbc6",
   "metadata": {},
   "outputs": [],
   "source": [
    "numerical_columns = ['age','hypertension','heart_disease','bmi','HbA1c_level','blood_glucose_level']\n",
    "output = ['diabetes']\n",
    "categorical_columns = ['gender', 'smoking_history']\n",
    "\n",
    "dataset_subset = dataset[categorical_columns]\n",
    "encoder = OneHotEncoder(sparse=False)\n",
    "encoded_columns = encoder.fit_transform(dataset_subset)\n",
    "encoded_feature_names = encoder.get_feature_names(categorical_columns)\n",
    "encoded_dataset = pd.DataFrame(encoded_columns, columns=encoded_feature_names)\n",
    "\n",
    "X_numerical = dataset[numerical_columns]\n",
    "X_encoded = pd.concat([encoded_dataset, X_numerical], axis=1)\n",
    "\n",
    "y = dataset[output].values.ravel()\n",
    "\n",
    "X_train_2, X_test_2, y_train_2, y_test_2 = train_test_split(X_encoded, y, test_size=0.3, random_state=10)"
   ]
  },
  {
   "cell_type": "code",
   "execution_count": 27,
   "id": "79486666",
   "metadata": {},
   "outputs": [
    {
     "data": {
      "text/plain": [
       "gender                 0\n",
       "age                    0\n",
       "hypertension           0\n",
       "heart_disease          0\n",
       "smoking_history        0\n",
       "bmi                    0\n",
       "HbA1c_level            0\n",
       "blood_glucose_level    0\n",
       "diabetes               0\n",
       "dtype: int64"
      ]
     },
     "execution_count": 27,
     "metadata": {},
     "output_type": "execute_result"
    }
   ],
   "source": [
    "dataset.isnull().sum()"
   ]
  },
  {
   "cell_type": "code",
   "execution_count": 28,
   "id": "fe4e163a",
   "metadata": {},
   "outputs": [
    {
     "data": {
      "text/plain": [
       "LogisticRegression(max_iter=3000)"
      ]
     },
     "execution_count": 28,
     "metadata": {},
     "output_type": "execute_result"
    }
   ],
   "source": [
    "y_train_2 = y_train_2.ravel()\n",
    "y_test_2 = y_test_2.ravel()\n",
    "\n",
    "lr_model = LogisticRegression(max_iter=3000)\n",
    "lr_model.fit(X_train_2, y_train_2)"
   ]
  },
  {
   "cell_type": "code",
   "execution_count": 31,
   "id": "eb6ef023",
   "metadata": {},
   "outputs": [
    {
     "name": "stdout",
     "output_type": "stream",
     "text": [
      "Prediction on Testing set: [0 0 0 ... 0 0 0]\n"
     ]
    }
   ],
   "source": [
    "y_pred_2 = lr_model.predict(X_test_2)\n",
    "\n",
    "print(\"Prediction on Testing set:\", y_pred_2)"
   ]
  },
  {
   "cell_type": "code",
   "execution_count": 33,
   "id": "77426d76",
   "metadata": {},
   "outputs": [
    {
     "name": "stdout",
     "output_type": "stream",
     "text": [
      "Precision: 0.8587479935794543\n",
      "Recall: 0.6294117647058823\n",
      "Confusion Matrix:\n",
      "[[27186   264]\n",
      " [  945  1605]]\n",
      "Accuracy on Decision Tree: 0.9597\n"
     ]
    }
   ],
   "source": [
    "from sklearn.metrics import confusion_matrix, precision_score, recall_score\n",
    "from sklearn.metrics import accuracy_score\n",
    "precision = precision_score(y_test_2, y_pred_2)\n",
    "print(\"Precision:\", precision)\n",
    "\n",
    "recall = recall_score(y_test_2, y_pred_2)\n",
    "print(\"Recall:\", recall)\n",
    "\n",
    "cm = confusion_matrix(y_test_2, y_pred_2)\n",
    "print(\"Confusion Matrix:\")\n",
    "print(cm)\n",
    "\n",
    "accuracy = accuracy_score(y_test_2, y_pred_2)\n",
    "print(\"Accuracy on Decision Tree:\", accuracy)"
   ]
  },
  {
   "cell_type": "markdown",
   "id": "f5653cd0",
   "metadata": {},
   "source": [
    "# Naive Bayes"
   ]
  },
  {
   "cell_type": "code",
   "execution_count": 34,
   "id": "89374ada",
   "metadata": {},
   "outputs": [],
   "source": [
    "numerical_columns = ['age', 'hypertension', 'heart_disease', 'bmi', 'HbA1c_level', 'blood_glucose_level']\n",
    "categorical_columns = ['gender', 'smoking_history']\n",
    "output = ['diabetes']\n",
    "dataset_subset = dataset[categorical_columns]\n",
    "encoder = OneHotEncoder(sparse=False)\n",
    "encoded_columns = encoder.fit_transform(dataset_subset)\n",
    "encoded_feature_names = encoder.get_feature_names(categorical_columns)\n",
    "encoded_dataset = pd.DataFrame(encoded_columns, columns=encoded_feature_names)\n",
    "\n",
    "X_numerical = dataset[numerical_columns]\n",
    "X_encoded = pd.concat([encoded_dataset, X_numerical], axis=1)\n",
    "\n",
    "y = dataset[output].values.ravel()\n",
    "\n",
    "X_train_3, X_test_3, y_train_3, y_test_3 = train_test_split(X_encoded, y, test_size=0.3, random_state=10)"
   ]
  },
  {
   "cell_type": "code",
   "execution_count": 36,
   "id": "981d645e",
   "metadata": {},
   "outputs": [
    {
     "data": {
      "text/plain": [
       "GaussianNB()"
      ]
     },
     "execution_count": 36,
     "metadata": {},
     "output_type": "execute_result"
    }
   ],
   "source": [
    "from sklearn.naive_bayes import GaussianNB\n",
    "y_train_3 = y_train_3.ravel()\n",
    "y_test_3 = y_test_3.ravel()\n",
    "\n",
    "nb_model = GaussianNB()\n",
    "nb_model.fit(X_train_3, y_train_3)"
   ]
  },
  {
   "cell_type": "code",
   "execution_count": 37,
   "id": "3ab30cd6",
   "metadata": {},
   "outputs": [],
   "source": [
    "y_pred_3 = nb_model.predict(X_test_3)"
   ]
  },
  {
   "cell_type": "code",
   "execution_count": 38,
   "id": "5f065e65",
   "metadata": {},
   "outputs": [
    {
     "name": "stdout",
     "output_type": "stream",
     "text": [
      "Precision: 0.34459347574101673\n",
      "Recall: 0.816078431372549\n",
      "Confusion Matrix:\n",
      "[[23492  3958]\n",
      " [  469  2081]]\n",
      "Accuracy on Naive Bayes Model: 0.8524333333333334\n"
     ]
    }
   ],
   "source": [
    "precision = precision_score(y_test_3, y_pred_3)\n",
    "print(\"Precision:\", precision)\n",
    "\n",
    "recall = recall_score(y_test_3, y_pred_3)\n",
    "print(\"Recall:\", recall)\n",
    "\n",
    "cm = confusion_matrix(y_test_3, y_pred_3)\n",
    "print(\"Confusion Matrix:\")\n",
    "print(cm)\n",
    "\n",
    "accuracy = accuracy_score(y_test_3, y_pred_3)\n",
    "print(\"Accuracy on Naive Bayes Model:\", accuracy)"
   ]
  },
  {
   "cell_type": "markdown",
   "id": "c793a4a5",
   "metadata": {},
   "source": [
    "# Decision Tree"
   ]
  },
  {
   "cell_type": "code",
   "execution_count": 39,
   "id": "ce3710b0",
   "metadata": {},
   "outputs": [],
   "source": [
    "numerical_columns = ['age', 'hypertension', 'heart_disease', 'bmi', 'HbA1c_level', 'blood_glucose_level']\n",
    "categorical_columns = ['gender', 'smoking_history']\n",
    "output = ['diabetes']\n",
    "\n",
    "dataset_subset = dataset[categorical_columns]\n",
    "encoder = OneHotEncoder(sparse=False)\n",
    "encoded_columns = encoder.fit_transform(dataset_subset)\n",
    "encoded_feature_names = encoder.get_feature_names(categorical_columns)\n",
    "encoded_dataset = pd.DataFrame(encoded_columns, columns=encoded_feature_names)\n",
    "\n",
    "X_numerical = dataset[numerical_columns]\n",
    "X_encoded = pd.concat([encoded_dataset, X_numerical], axis=1)\n",
    "\n",
    "y = dataset[output].values.ravel()"
   ]
  },
  {
   "cell_type": "code",
   "execution_count": 40,
   "id": "3c66e92a",
   "metadata": {},
   "outputs": [],
   "source": [
    "X_train_4, X_test_4, y_train_4, y_test_4 = train_test_split(X_encoded, y, test_size=0.3, random_state=10)"
   ]
  },
  {
   "cell_type": "code",
   "execution_count": 41,
   "id": "dcd74dd4",
   "metadata": {},
   "outputs": [
    {
     "name": "stdout",
     "output_type": "stream",
     "text": [
      "Precision: 0.7077897875512486\n",
      "Recall: 0.7447058823529412\n",
      "Confusion Matrix:\n",
      "[[26666   784]\n",
      " [  651  1899]]\n",
      "Accuracy on Decision Tree: 0.9521666666666667\n"
     ]
    }
   ],
   "source": [
    "from sklearn.tree import DecisionTreeClassifier\n",
    "from sklearn.metrics import accuracy_score\n",
    "\n",
    "dt_model = DecisionTreeClassifier()\n",
    "dt_model.fit(X_train_4, y_train_4)\n",
    "\n",
    "y_pred_4 = dt_model.predict(X_test_4)\n",
    "\n",
    "precision = precision_score(y_test_4, y_pred_4)\n",
    "print(\"Precision:\", precision)\n",
    "\n",
    "recall = recall_score(y_test_4, y_pred_4)\n",
    "print(\"Recall:\", recall)\n",
    "\n",
    "cm = confusion_matrix(y_test_4, y_pred_4)\n",
    "print(\"Confusion Matrix:\")\n",
    "print(cm)\n",
    "\n",
    "accuracy = accuracy_score(y_test_4, y_pred_4)\n",
    "print(\"Accuracy on Decision Tree:\", accuracy)"
   ]
  },
  {
   "cell_type": "markdown",
   "id": "f0229d16",
   "metadata": {},
   "source": [
    "# KNN K-Nearest Neighbours"
   ]
  },
  {
   "cell_type": "code",
   "execution_count": 42,
   "id": "99e19cbd",
   "metadata": {},
   "outputs": [],
   "source": [
    "from sklearn.neighbors import KNeighborsClassifier\n",
    "from sklearn.metrics import accuracy_score\n",
    "\n",
    "X_train_5, X_test_5, y_train_5, y_test_5 = train_test_split(X_encoded, y, test_size=0.3, random_state=10)\n",
    "\n",
    "knn_model = KNeighborsClassifier()\n",
    "\n",
    "knn_model.fit(X_train_5, y_train_5)\n",
    "\n",
    "y_pred_5 = knn_model.predict(X_test_5)"
   ]
  },
  {
   "cell_type": "code",
   "execution_count": 43,
   "id": "e989e63c",
   "metadata": {},
   "outputs": [
    {
     "name": "stdout",
     "output_type": "stream",
     "text": [
      "Precision: 0.8626716604244694\n",
      "Recall: 0.5419607843137255\n",
      "Confusion Matrix:\n",
      "[[27230   220]\n",
      " [ 1168  1382]]\n",
      "Accuracy on Decision Tree: 0.9537333333333333\n"
     ]
    }
   ],
   "source": [
    "precision = precision_score(y_test_5, y_pred_5)\n",
    "print(\"Precision:\", precision)\n",
    "\n",
    "recall = recall_score(y_test_5, y_pred_5)\n",
    "print(\"Recall:\", recall)\n",
    "\n",
    "cm = confusion_matrix(y_test_5, y_pred_5)\n",
    "print(\"Confusion Matrix:\")\n",
    "print(cm)\n",
    "\n",
    "accuracy = accuracy_score(y_test_5, y_pred_5)\n",
    "print(\"Accuracy on Decision Tree:\", accuracy)"
   ]
  },
  {
   "cell_type": "code",
   "execution_count": null,
   "id": "001b5553",
   "metadata": {},
   "outputs": [],
   "source": []
  }
 ],
 "metadata": {
  "kernelspec": {
   "display_name": "Python 3 (ipykernel)",
   "language": "python",
   "name": "python3"
  },
  "language_info": {
   "codemirror_mode": {
    "name": "ipython",
    "version": 3
   },
   "file_extension": ".py",
   "mimetype": "text/x-python",
   "name": "python",
   "nbconvert_exporter": "python",
   "pygments_lexer": "ipython3",
   "version": "3.9.7"
  }
 },
 "nbformat": 4,
 "nbformat_minor": 5
}
